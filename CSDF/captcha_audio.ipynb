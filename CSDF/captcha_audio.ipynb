{
 "cells": [
  {
   "cell_type": "code",
   "execution_count": 1,
   "id": "5d6e3be2-e3aa-4c98-81fb-0e558fd80b9c",
   "metadata": {},
   "outputs": [
    {
     "name": "stdout",
     "output_type": "stream",
     "text": [
      "Defaulting to user installation because normal site-packages is not writeable\n",
      "Requirement already satisfied: captcha in c:\\users\\yash dhumal\\appdata\\roaming\\python\\python311\\site-packages (0.6.0)\n",
      "Requirement already satisfied: Pillow in d:\\programs\\lib\\site-packages (from captcha) (9.4.0)\n",
      "Note: you may need to restart the kernel to use updated packages.\n"
     ]
    }
   ],
   "source": [
    "\n",
    "pip install captcha\n"
   ]
  },
  {
   "cell_type": "code",
   "execution_count": 2,
   "id": "ab2a0398",
   "metadata": {},
   "outputs": [
    {
     "name": "stdout",
     "output_type": "stream",
     "text": [
      "Defaulting to user installation because normal site-packages is not writeable\n",
      "Requirement already satisfied: pyttsx3 in c:\\users\\yash dhumal\\appdata\\roaming\\python\\python311\\site-packages (2.90)\n",
      "Requirement already satisfied: comtypes in c:\\users\\yash dhumal\\appdata\\roaming\\python\\python311\\site-packages (from pyttsx3) (1.4.5)\n",
      "Requirement already satisfied: pypiwin32 in c:\\users\\yash dhumal\\appdata\\roaming\\python\\python311\\site-packages (from pyttsx3) (223)\n",
      "Requirement already satisfied: pywin32 in d:\\programs\\lib\\site-packages (from pyttsx3) (305.1)\n",
      "Note: you may need to restart the kernel to use updated packages.\n"
     ]
    }
   ],
   "source": [
    "pip install pyttsx3\n"
   ]
  },
  {
   "cell_type": "code",
   "execution_count": 5,
   "id": "cd4c3ac1",
   "metadata": {},
   "outputs": [
    {
     "name": "stdout",
     "output_type": "stream",
     "text": [
      "Defaulting to user installation because normal site-packages is not writeableNote: you may need to restart the kernel to use updated packages.\n",
      "\n",
      "Requirement already satisfied: Pillow in d:\\programs\\lib\\site-packages (9.4.0)\n"
     ]
    }
   ],
   "source": [
    "pip install Pillow\n"
   ]
  },
  {
   "cell_type": "code",
   "execution_count": 6,
   "id": "2bede977-d98f-4895-91f6-477a77a13abc",
   "metadata": {},
   "outputs": [
    {
     "name": "stdout",
     "output_type": "stream",
     "text": [
      "Audio file captcha_429r.mp3 generated successfully\n"
     ]
    }
   ],
   "source": [
    "import tkinter as tk\n",
    "from tkinter import messagebox\n",
    "from captcha.image import ImageCaptcha\n",
    "import pyttsx3\n",
    "import random\n",
    "import string\n",
    "import os\n",
    "\n",
    "class CaptchaGeneratorApp:\n",
    "    def __init__(self, root):\n",
    "        self.root = root\n",
    "        self.root.title(\"CAPTCHA Generator and Verifier\")\n",
    "\n",
    "        # GUI elements\n",
    "        self.label_length = tk.Label(self.root, text=\"Enter CAPTCHA Length:\")\n",
    "        self.label_length.pack(pady=10)\n",
    "        \n",
    "        self.entry_length = tk.Entry(self.root)\n",
    "        self.entry_length.pack()\n",
    "\n",
    "        self.button_generate = tk.Button(self.root, text=\"Generate CAPTCHA\", command=self.generate_captcha)\n",
    "        self.button_generate.pack(pady=10)\n",
    "\n",
    "        self.label_captcha_image = tk.Label(self.root, text=\"CAPTCHA Image:\")\n",
    "        self.label_captcha_image.pack()\n",
    "\n",
    "        self.label_captcha_audio = tk.Label(self.root, text=\"CAPTCHA Audio:\")\n",
    "        self.label_captcha_audio.pack()\n",
    "\n",
    "        self.label_user_input_image = tk.Label(self.root, text=\"Enter Image CAPTCHA:\")\n",
    "        self.label_user_input_image.pack()\n",
    "\n",
    "        self.entry_user_input_image = tk.Entry(self.root)\n",
    "        self.entry_user_input_image.pack()\n",
    "\n",
    "        self.label_user_input_audio = tk.Label(self.root, text=\"Enter Audio CAPTCHA (listen to the audio):\")\n",
    "        self.label_user_input_audio.pack()\n",
    "\n",
    "        self.entry_user_input_audio = tk.Entry(self.root)\n",
    "        self.entry_user_input_audio.pack()\n",
    "\n",
    "        self.button_verify = tk.Button(self.root, text=\"Verify CAPTCHA\", command=self.verify_captcha)\n",
    "        self.button_verify.pack(pady=10)\n",
    "\n",
    "        # Initialize CAPTCHA variables\n",
    "        self.captcha_text = \"\"\n",
    "        self.captcha_image_file = \"\"\n",
    "        self.captcha_audio_file = \"\"\n",
    "\n",
    "    def generate_captcha(self):\n",
    "        try:\n",
    "            length = int(self.entry_length.get())\n",
    "            if length <= 0:\n",
    "                messagebox.showerror(\"Error\", \"Length must be a positive integer.\")\n",
    "                return\n",
    "\n",
    "            # Generate CAPTCHA text\n",
    "            self.captcha_text = generate_captcha_text(length)\n",
    "            \n",
    "            # Generate CAPTCHA image\n",
    "            self.captcha_image_file = generate_image_captcha(self.captcha_text)\n",
    "            self.label_captcha_image.config(text=f\"CAPTCHA Image: {self.captcha_image_file}\")\n",
    "\n",
    "            # Generate CAPTCHA audio\n",
    "            self.captcha_audio_file = generate_audio_captcha(self.captcha_text)\n",
    "            self.label_captcha_audio.config(text=f\"CAPTCHA Audio: {self.captcha_audio_file}\")\n",
    "\n",
    "            # Play audio CAPTCHA\n",
    "            self.play_audio_captcha(self.captcha_audio_file)\n",
    "\n",
    "        except ValueError:\n",
    "            messagebox.showerror(\"Error\", \"Invalid input. Please enter a valid integer for length.\")\n",
    "        except Exception as e:\n",
    "            messagebox.showerror(\"Error\", f\"Unexpected error: {e}\")\n",
    "\n",
    "    def play_audio_captcha(self, audio_file):\n",
    "        # Play the audio CAPTCHA using the system's default audio player\n",
    "        try:\n",
    "            if os.name == 'nt':  # For Windows\n",
    "                os.system(f'start {audio_file}')\n",
    "            elif os.name == 'posix':  # For Linux and MacOS\n",
    "                os.system(f'afplay {audio_file}')  # MacOS\n",
    "                # os.system(f'aplay {audio_file}')  # Linux\n",
    "        except Exception as e:\n",
    "            messagebox.showerror(\"Error\", f\"Unable to play audio: {e}\")\n",
    "\n",
    "    def verify_captcha(self):\n",
    "        if not self.captcha_text:\n",
    "            messagebox.showerror(\"Error\", \"Generate CAPTCHA first.\")\n",
    "            return\n",
    "\n",
    "        user_input_image = self.entry_user_input_image.get()\n",
    "        user_input_audio = self.entry_user_input_audio.get()\n",
    "\n",
    "        # Verify CAPTCHA\n",
    "        if verify_captcha(user_input_image, self.captcha_text) and verify_captcha(user_input_audio, self.captcha_text):\n",
    "            messagebox.showinfo(\"Success\", \"CAPTCHA verification successful!\")\n",
    "        else:\n",
    "            messagebox.showerror(\"Error\", \"CAPTCHA verification failed.\")\n",
    "\n",
    "def generate_captcha_text(length):\n",
    "    characters = string.ascii_letters + string.digits\n",
    "    captcha_text = ''.join(random.choice(characters) for _ in range(length))\n",
    "    return captcha_text\n",
    "\n",
    "def generate_image_captcha(text):\n",
    "    image = ImageCaptcha(width=280, height=90, fonts=None, font_sizes=None)\n",
    "    captcha = image.generate(text)\n",
    "    image_file = f'captcha_{text}.png'  # Save the CAPTCHA image to file\n",
    "    image.write(text, image_file)\n",
    "    \n",
    "    # Load the generated image and convert it to black and white\n",
    "    from PIL import Image\n",
    "    img = Image.open(image_file)\n",
    "    bw_img = img.convert('L')  # Convert to grayscale\n",
    "    bw_img.save(image_file)\n",
    "\n",
    "    return image_file\n",
    "\n",
    "def generate_audio_captcha(text):\n",
    "    engine = pyttsx3.init()\n",
    "    audio_file = f'captcha_{text}.mp3'\n",
    "    try:\n",
    "        engine.save_to_file(text, audio_file)\n",
    "        engine.runAndWait()\n",
    "        print(f\"Audio file {audio_file} generated successfully\")\n",
    "    except Exception as e:\n",
    "        print(f\"Failed to generate audio: {e}\")\n",
    "    return audio_file\n",
    "\n",
    "def verify_captcha(input_text, captcha_text):\n",
    "    return input_text.lower() == captcha_text.lower()\n",
    "\n",
    "if __name__ == \"__main__\":\n",
    "    root = tk.Tk()\n",
    "    app = CaptchaGeneratorApp(root)\n",
    "    root.mainloop()\n"
   ]
  },
  {
   "cell_type": "code",
   "execution_count": null,
   "id": "f2ed165e",
   "metadata": {},
   "outputs": [],
   "source": []
  }
 ],
 "metadata": {
  "kernelspec": {
   "display_name": "Python 3 (ipykernel)",
   "language": "python",
   "name": "python3"
  },
  "language_info": {
   "codemirror_mode": {
    "name": "ipython",
    "version": 3
   },
   "file_extension": ".py",
   "mimetype": "text/x-python",
   "name": "python",
   "nbconvert_exporter": "python",
   "pygments_lexer": "ipython3",
   "version": "3.11.5"
  }
 },
 "nbformat": 4,
 "nbformat_minor": 5
}
